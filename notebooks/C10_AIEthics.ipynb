{
  "nbformat": 4,
  "nbformat_minor": 0,
  "metadata": {
    "colab": {
      "provenance": []
    },
    "kernelspec": {
      "name": "python3",
      "display_name": "Python 3"
    },
    "language_info": {
      "name": "python"
    }
  },
  "cells": [
    {
      "cell_type": "markdown",
      "source": [
        "# Chapter 10 – AI Ethics and Governance\n",
        "\n",
        "This notebook explores fairness and bias in machine learning models using the\n",
        "superhero dataset introduced earlier in the book. We'll analyze model behavior using\n",
        "open source tools like ANOVA and SHAP to assess outcome differences and feature\n",
        "influence. The dataset is loaded directly from the book’s GitHub repository. By\n",
        "examining both group-level disparities and individual prediction logic, we connect\n",
        "ethical concerns to practical, interpretable code."
      ],
      "metadata": {
        "id": "Vp8RbmYEco1r"
      }
    },
    {
      "cell_type": "markdown",
      "source": [
        "### Listing 10-1: Testing Power Score Differences Across Races with ANOVA\n",
        "\n",
        "This program loads superhero data, from Chapters 2-3, and applies an ANOVA test to evaluate whether\n",
        "mean PCA Power Scores differ significantly across racial groups. It outputs summary\n",
        "statistics and a visual distribution to support ethical analysis of model outcomes.\n"
      ],
      "metadata": {
        "id": "h-h2cgjEbtw5"
      }
    },
    {
      "cell_type": "code",
      "execution_count": null,
      "metadata": {
        "id": "L033s3LRdHHf"
      },
      "outputs": [],
      "source": [
        "import pandas as pd\n",
        "import matplotlib.pyplot as plt\n",
        "import seaborn as sns\n",
        "from scipy.stats import f_oneway\n",
        "\n",
        "# --- Constants ---\n",
        "BASE_URL = \"https://opensourceai-book.github.io/code/datasets/\"\n",
        "CSV_FILE = \"superheroes_info_powers2.csv\"\n",
        "DATA_URL = f\"{BASE_URL}{CSV_FILE}\"\n",
        "\n",
        "# --- Load and Prepare Data ---\n",
        "df = pd.read_csv(DATA_URL)\n",
        "df = df.dropna(subset=['Race', 'PCA_Power_Score'])\n",
        "\n",
        "# Normalize race names (optional: combine rare/variant ones)\n",
        "df['Race'] = df['Race'].str.strip()\n",
        "\n",
        "# Focus on most common races for clearer comparison\n",
        "common_races = ['Human', 'Mutant', 'Cyborg', 'Alien', 'God / Eternal',\n",
        "                'Android', 'Symbiote', 'Demi-God']\n",
        "df = df[df['Race'].isin(common_races)]\n",
        "\n",
        "# --- ANOVA Test: Compare PCA_Power_Score across races ---\n",
        "race_groups = [group['PCA_Power_Score'].values\n",
        "               for name, group in df.groupby('Race')]\n",
        "f_stat, p_value = f_oneway(*race_groups)\n",
        "\n",
        "# --- Race-wise Summary Stats ---\n",
        "mean_scores = df.groupby('Race')['PCA_Power_Score'].mean().sort_values()\n",
        "\n",
        "# --- Output Summary ---\n",
        "print(\"=== Race Bias in Power Distribution ===\\n\")\n",
        "print(f\"Source: {CSV_FILE}\")\n",
        "print(f\"Total samples (filtered): {len(df)}\")\n",
        "print(\"\\nMean PCA Power Score by Race:\")\n",
        "print(mean_scores.round(2))\n",
        "print(f\"\\nANOVA F-statistic: {f_stat:.2f}\")\n",
        "print(f\"ANOVA P-value:     {p_value:.4f}\")\n",
        "print(\"\\nInterpretation:\")\n",
        "if p_value < 0.05:\n",
        "    print(\"- Power differences between races are statistically significant.\")\n",
        "else:\n",
        "    print(\"- No significant difference; race-based power differences may be random.\")\n",
        "\n",
        "# --- Visualization: Boxplot of PCA Power Score by Race ---\n",
        "plt.figure(figsize=(10, 6))\n",
        "sns.boxplot(x='Race', y='PCA_Power_Score', data=df, palette=\"coolwarm\")\n",
        "plt.title(\"PCA Power Score Distribution by Race\")\n",
        "plt.xticks(rotation=45)\n",
        "plt.ylabel(\"PCA Power Score\")\n",
        "plt.xlabel(\"Race\")\n",
        "plt.tight_layout()\n",
        "plt.show()\n",
        "\n"
      ]
    },
    {
      "cell_type": "markdown",
      "source": [
        "### Listing 10-2: Explaining Superpower Predictions Using SHAP Values\n",
        "\n",
        "This program trains a Random Forest model to predict PCA Power Score and uses\n",
        "`SHAP` to explain feature contributions. The output ranks feature importance and shows\n",
        "how individual traits, including race, influence prediction outcomes across the test set."
      ],
      "metadata": {
        "id": "-M5zg135fu21"
      }
    },
    {
      "cell_type": "code",
      "source": [
        "import pandas as pd\n",
        "from sklearn.ensemble import RandomForestRegressor\n",
        "from sklearn.model_selection import train_test_split\n",
        "from sklearn.preprocessing import OneHotEncoder\n",
        "from sklearn.compose import ColumnTransformer\n",
        "from sklearn.pipeline import Pipeline\n",
        "import shap\n",
        "import matplotlib.pyplot as plt\n",
        "import numpy as np\n",
        "\n",
        "# --- Constants ---\n",
        "BASE_URL = \"https://opensourceai-book.github.io/code/datasets/\"\n",
        "CSV_FILE = \"superheroes_info_powers2.csv\"\n",
        "DATA_URL = f\"{BASE_URL}{CSV_FILE}\"\n",
        "\n",
        "# --- Load and Prepare Data ---\n",
        "df = pd.read_csv(DATA_URL)\n",
        "df = df.dropna(subset=['Race', 'Height', 'Weight', 'OPR', 'SDR',\n",
        "                       'PCA_Power_Score'])\n",
        "\n",
        "features = ['Race', 'Height', 'Weight', 'OPR', 'SDR']\n",
        "X = df[features]\n",
        "y = df['PCA_Power_Score']\n",
        "\n",
        "# --- Preprocessing Pipeline ---\n",
        "categorical_features = ['Race']\n",
        "numeric_features = ['Height', 'Weight', 'OPR', 'SDR']\n",
        "\n",
        "preprocessor = ColumnTransformer(\n",
        "    transformers=[\n",
        "        ('cat', OneHotEncoder(handle_unknown='ignore'), categorical_features),\n",
        "        ('num', 'passthrough', numeric_features)\n",
        "    ]\n",
        ")\n",
        "\n",
        "model = Pipeline(steps=[\n",
        "    ('preprocessor', preprocessor),\n",
        "    ('regressor', RandomForestRegressor(random_state=42))\n",
        "])\n",
        "\n",
        "# --- Train/Test Split ---\n",
        "X_train, X_test, y_train, y_test = train_test_split(\n",
        "    X, y, test_size=0.3, random_state=42\n",
        ")\n",
        "\n",
        "model.fit(X_train, y_train)\n",
        "\n",
        "# --- SHAP Explainer ---\n",
        "X_transformed = model.named_steps['preprocessor'].transform(X_test).toarray()\n",
        "feature_names = model.named_steps['preprocessor'].get_feature_names_out()\n",
        "\n",
        "explainer = shap.Explainer(model.named_steps['regressor'], X_transformed,\n",
        "                           feature_names=feature_names)\n",
        "shap_values = explainer(X_transformed)\n",
        "\n",
        "\n",
        "# --- Feature Importance Summary (printable) ---\n",
        "mean_abs_shap = np.abs(shap_values.values).mean(axis=0)\n",
        "importance = pd.Series(mean_abs_shap, index=feature_names).sort_values(\n",
        "    ascending=False)\n",
        "\n",
        "print(\"=== SHAP Feature Importance (mean absolute contribution) ===\\n\")\n",
        "for feature, score in importance.items():\n",
        "    print(f\"{feature:30} {score:.4f}\")\n",
        "\n",
        "# --- Show SHAP Summary Plot ---\n",
        "shap.summary_plot(shap_values, plot_type=\"bar\")\n",
        "\n",
        "\n",
        "# --- Print SHAP contributions for first 5 predictions ---\n",
        "print(\"\\n=== Sample SHAP Contributions for Predictions ===\\n\")\n",
        "X_sample = X_test.reset_index(drop=True).head(5)\n",
        "shap_sample = shap_values[:5]\n",
        "preds = model.predict(X_sample)\n",
        "\n",
        "for i in range(5):\n",
        "    print(f\"Hero {i+1}: Predicted PCA_Power_Score = {preds[i]:.2f}\")\n",
        "    for j, name in enumerate(feature_names):\n",
        "        contrib = shap_sample.values[i][j]\n",
        "        if abs(contrib) > 0.1:\n",
        "            print(f\"  {name:30} SHAP: {contrib:+.3f}\")\n",
        "    print(\"-\" * 60)\n"
      ],
      "metadata": {
        "id": "IHKIB1LXfybE"
      },
      "execution_count": null,
      "outputs": []
    }
  ]
}